{
 "cells": [
  {
   "cell_type": "code",
   "execution_count": 1,
   "metadata": {
    "id": "3RQLKkM58BiF"
   },
   "outputs": [],
   "source": [
    "import numpy as np\n",
    "import matplotlib.pyplot as plt"
   ]
  },
  {
   "cell_type": "markdown",
   "metadata": {
    "id": "FAlr8M-Z8Zor"
   },
   "source": [
    "## Data \n",
    "\n",
    "$\\mathbf{X}$ is a feature matrix corresponding to $n$ training examples, each represented with $d$ features and has shape $d \\times n$.  \n",
    "\\begin{equation}\n",
    "  \\mathbf{X}_{d \\times n} = \\begin{bmatrix}\n",
    "       | & | &\\dots & |\\\\\n",
    "       \\mathbf{x}_{1}&  \n",
    "       \\mathbf{x}_{2} & \n",
    "      \\dots &\n",
    "       \\mathbf{x}_{n}  \\\\\n",
    "        | & | &\\dots & |\\\\\n",
    "    \\end{bmatrix}\n",
    "\\end{equation}\n",
    "\n",
    "* here each $\\mathbf{x}_i \\in \\mathbb{R}^d$\n",
    "\n",
    "*  $\\mathbf{y}$ is a label vector of shape $n \\times 1$.  \n",
    "\\begin{equation}\n",
    "    \\mathbf{y} = \\begin{bmatrix}\n",
    "        y_{1}  \\\\\n",
    "        y_{2} \\\\\n",
    "        \\vdots  \\\\\n",
    "        y_{n} \\\\\n",
    "      \\end{bmatrix}\n",
    "\\end{equation}\n",
    "\n",
    "*  The $i$-th entry in this vector, $\\mathbf{y}[i]$ gives label for $i$-th example, which is denoted by $y_{i} \\in \\mathbb{R}$."
   ]
  },
  {
   "cell_type": "markdown",
   "metadata": {
    "id": "5xKGE4b6hTq5"
   },
   "source": [
    "### Training data"
   ]
  },
  {
   "cell_type": "code",
   "execution_count": 3,
   "metadata": {
    "id": "GbDDcyLKiGsq"
   },
   "outputs": [],
   "source": [
    "## Training Data \n",
    "rng = np.random.default_rng(seed = 101)\n",
    "X_train = (np.arange(-2, 2, 0.01).reshape(1, -1))\n",
    "y_train = (2*X_train**3+3*X_train**2 +4 + rng.normal(0, 1, X_train.shape[1]).reshape(1, -1)).T\n"
   ]
  },
  {
   "cell_type": "code",
   "execution_count": 4,
   "metadata": {},
   "outputs": [
    {
     "data": {
      "text/plain": [
       "((1, 400), (400, 1))"
      ]
     },
     "execution_count": 4,
     "metadata": {},
     "output_type": "execute_result"
    }
   ],
   "source": [
    "X_train.shape,y_train.shape"
   ]
  },
  {
   "cell_type": "code",
   "execution_count": 5,
   "metadata": {},
   "outputs": [
    {
     "data": {
      "text/plain": [
       "<matplotlib.collections.PathCollection at 0x1f5ab890460>"
      ]
     },
     "execution_count": 5,
     "metadata": {},
     "output_type": "execute_result"
    },
    {
     "data": {
      "image/png": "[encoded data removed]",
      "text/plain": [
       "<Figure size 640x480 with 1 Axes>"
      ]
     },
     "metadata": {},
     "output_type": "display_data"
    }
   ],
   "source": [
    "plt.scatter(X_train, y_train)"
   ]
  },
  {
   "cell_type": "markdown",
   "metadata": {
    "id": "ffSQPM_4BQya"
   },
   "source": [
    "### Test data"
   ]
  },
  {
   "cell_type": "code",
   "execution_count": 14,
   "metadata": {
    "id": "kACpsUAh8Xpx"
   },
   "outputs": [],
   "source": [
    "### Test data\n",
    "rng = np.random.default_rng(seed = 102)\n",
    "X_test = np.arange(-2, 2, 0.02).reshape(1, -1)\n",
    "y_test = (2*X_test**3+3*X_test**2 +4 + rng.normal(0, 2, X_test.shape[1]).reshape(1, -1)).T"
   ]
  },
  {
   "cell_type": "code",
   "execution_count": 17,
   "metadata": {},
   "outputs": [
    {
     "data": {
      "text/plain": [
       "((1, 200), (200, 1))"
      ]
     },
     "execution_count": 17,
     "metadata": {},
     "output_type": "execute_result"
    }
   ],
   "source": [
    "X_test.shape,y_test.shape"
   ]
  },
  {
   "cell_type": "markdown",
   "metadata": {
    "id": "EmK77bhCkKI-"
   },
   "source": [
    "## Model\n",
    "\n",
    "Linear regression model for the dataset ${\\mathbb{x}, y}$ is given as\n",
    "$$h_w(\\mathbb{x}) = w_1x^{1}+w_2x^{2}+...+w_dx^{d} =  \\mathbf{x}^Tw\n",
    "$$\n",
    "\n",
    "where $x^{i}$ is the $i^{th}$ feature of the data point $\\mathbf{x}$ and $w = [w_1, w_2, ...w_d]^T$ is the weight vector.\n",
    "\n",
    "\n",
    "Notice that above model always pass through the origin but for a given dataset, best fit model need not pass through the origin. To tackle this issue, we add an intercept $w_0$ in the model and set the corresponding featrue $x^{0}$ to $1$. That is \n",
    "\n",
    "$$h_w(\\mathbb{x}) =w_0x^{0}+ w_1x^{1}+w_2x^{2}+...+w_dx^{n} =  \\mathbf{x}^Tw\n",
    "$$\n",
    "\n",
    "We call $x^{0}$ the dummy feature and set its value to 1 for each examples. Now $w$ is of shape $(d+1, 1)$ and $\\mathbf{X}$ is of shape $(d+1, n)$ where the first row of $\\mathbf{X}$ has entries as 1.\n"
   ]
  },
  {
   "cell_type": "markdown",
   "metadata": {
    "id": "A156drNBk37x"
   },
   "source": [
    "### Add dummy feature"
   ]
  },
  {
   "cell_type": "code",
   "execution_count": 16,
   "metadata": {},
   "outputs": [
    {
     "data": {
      "text/plain": [
       "((2, 400), (2, 200))"
      ]
     },
     "execution_count": 16,
     "metadata": {},
     "output_type": "execute_result"
    }
   ],
   "source": [
    "dummy_feature = np.ones(X_train.shape[1])\n",
    "X = np.row_stack((dummy_feature, X_train))\n",
    "X_t = np.row_stack((np.ones(X_test.shape[1]),X_test))\n",
    "X.shape,X_t.shape"
   ]
  },
  {
   "cell_type": "markdown",
   "metadata": {
    "id": "Wp1v00V9lBMd"
   },
   "source": [
    "## Loss function\n",
    "\n",
    "The total loss is the sum of square of errors between actual and predicted labels for each training point.  \n",
    "\n",
    "The error for $i$-th training point is calculated as follows:\n",
    "\\begin{eqnarray}\n",
    "e^{(i)} &=& (\\mathrm{{actual\\ label} - {predicted\\ label}})^2 \\\\\n",
    "        &=& \\left ({y_{i}} -\n",
    "        {h_{\\mathbf{w}}(\\mathbf{x}_{i})} \\right)^2 \\\\\n",
    "        &=& \\left ({y_{i}} -\n",
    "        {\\mathbf{w}^T \\mathbf{x}_{i}} \\right)^2\n",
    "\\end{eqnarray}\n",
    "\n",
    " \n",
    "\n",
    "The total loss $L(\\mathbf{w})$ is sum of errors at each training point:\n",
    "\\begin{equation}\n",
    "L(\\mathbf{w}) = \\sum_{i=1}^{n} e^{(i)} \n",
    "\\end{equation}\n",
    "\n",
    "We multiply this by $\\frac{1}{2}$ for mathematical convenience in later use:\n",
    "\n",
    "\n",
    "\\begin{eqnarray}\n",
    "  L(\\mathbf{w}) &=& \\frac{1}{2} \\sum_{i=1}^{n} e^{(i)} \\\\ &=&  \\frac{1}{2} \\left({{\\mathbf{X}^T \\mathbf{w}}} - \\mathbf{y} \\right)^T \\left({{\\mathbf{X}^T \\mathbf{w}}} - \\mathbf{y} \\right)) \n",
    "\\end{eqnarray}\n"
   ]
  },
  {
   "cell_type": "markdown",
   "metadata": {
    "id": "MQtN8F2j9r42"
   },
   "source": [
    "## Optimization\n",
    "\n"
   ]
  },
  {
   "cell_type": "markdown",
   "metadata": {
    "id": "GvxZvoJO-OIn"
   },
   "source": [
    "#### 1. Normal equation\n",
    "\n",
    "Let's set $\\dfrac{\\partial L(\\mathbf{w})}{\\partial \\mathbf{w}}$ to 0 and solve for $\\mathbf{w}$:\n",
    "\\begin{eqnarray}\n",
    "\\frac{\\partial L(\\mathbf{w})}{\\partial \\mathbf{w}} &=& \\mathbf{X} \\mathbf{X}^T \\mathbf{w} - \\mathbf{X} \\mathbf{y} = 0 \\\\\n",
    "\\mathbf{X}^T \\mathbf{X} \\mathbf{w} &=& \\mathbf{X}^T \\mathbf{Y} \\\\\n",
    "\\mathbf{w} &=& \\left( \\mathbf{X} \\mathbf{X}^T \\right)^{-1} \\mathbf{X} \\mathbf{y}\n",
    "\\end{eqnarray}\n",
    "\n"
   ]
  },
  {
   "cell_type": "markdown",
   "metadata": {
    "id": "gwcJYj2Ml71z"
   },
   "source": [
    "#### Find weight vector and prediction for training and test dataset"
   ]
  },
  {
   "cell_type": "code",
   "execution_count": 23,
   "metadata": {
    "id": "UiO64nmAeSkz"
   },
   "outputs": [
    {
     "data": {
      "text/plain": [
       "(2, 1)"
      ]
     },
     "execution_count": 23,
     "metadata": {},
     "output_type": "execute_result"
    }
   ],
   "source": [
    "### weight \n",
    "def weight(X,y):\n",
    "    return np.linalg.pinv(X@X.T) @X @y\n",
    "    \n",
    "w = weight(X,y_train)\n",
    "w.shape"
   ]
  },
  {
   "cell_type": "code",
   "execution_count": 35,
   "metadata": {
    "id": "b_KErNi9eXTm"
   },
   "outputs": [],
   "source": [
    "def predict(X,w):\n",
    "    return X.T @ w\n",
    "y_pred = predict(X, w)\n",
    "y_t_pred = predict(X_t, w)"
   ]
  },
  {
   "cell_type": "markdown",
   "metadata": {
    "id": "ohC5eG-GETPq"
   },
   "source": [
    "### Plot weight vector"
   ]
  },
  {
   "cell_type": "code",
   "execution_count": 31,
   "metadata": {
    "id": "PEUE5Fhvea3Q"
   },
   "outputs": [
    {
     "data": {
      "text/plain": [
       "[<matplotlib.lines.Line2D at 0x1f5ac9a2a30>]"
      ]
     },
     "execution_count": 31,
     "metadata": {},
     "output_type": "execute_result"
    },
    {
     "data": {
      "image/png": "[encoded data removed]",
      "text/plain": [
       "<Figure size 640x480 with 1 Axes>"
      ]
     },
     "metadata": {},
     "output_type": "display_data"
    }
   ],
   "source": [
    "#plotting the model \n",
    "plt.scatter(X_train, y_train)\n",
    "axes = plt.gca()\n",
    "xvals = np.array(axes.get_xlim())\n",
    "yvals = w[0] + w[1]*xvals\n",
    "plt.plot(xvals, yvals,'r')"
   ]
  },
  {
   "cell_type": "markdown",
   "metadata": {
    "id": "Sk1KvxpCn1Xr"
   },
   "source": [
    "## Evaluation \n",
    "\n",
    "##### RMSE $$ \\sqrt{\\dfrac{1}{n}\\sum\\limits_{i=1}^{n} (y_i- \\hat{y}_i)^2}\n",
    "$$\n",
    "\n"
   ]
  },
  {
   "cell_type": "code",
   "execution_count": 34,
   "metadata": {
    "id": "zVMo6BF_ediw"
   },
   "outputs": [
    {
     "data": {
      "text/plain": [
       "4.477002001803876"
      ]
     },
     "execution_count": 34,
     "metadata": {},
     "output_type": "execute_result"
    }
   ],
   "source": [
    "### Training error and test error\n",
    "def RMSE(y,y_pred):\n",
    "    return np.sqrt(np.mean((y-y_pred)**2))\n",
    "RMSE(y_train,y_pred)"
   ]
  },
  {
   "cell_type": "code",
   "execution_count": 36,
   "metadata": {},
   "outputs": [
    {
     "data": {
      "text/plain": [
       "4.718639896481514"
      ]
     },
     "execution_count": 36,
     "metadata": {},
     "output_type": "execute_result"
    }
   ],
   "source": [
    "RMSE(y_test, y_t_pred)"
   ]
  },
  {
   "cell_type": "markdown",
   "metadata": {
    "id": "r8MYjq1qHnM1"
   },
   "source": [
    "#### 2. Gradient Descent"
   ]
  },
  {
   "cell_type": "markdown",
   "metadata": {
    "id": "SxdpExPLHw5L"
   },
   "source": [
    "\n",
    "Gradient of a function $f$ at a point $x$ gives the direction of maximum change in $f$ at the point $x$.\n",
    "\n",
    "---\n",
    "\n",
    "We start at a random point $\\mathbf{w}$ at the loss function $L(\\mathbf{w})$.\n",
    "\n",
    "\n",
    "We basically need an update rule in gradient descent, which is as follows:\n",
    "\n",
    "\\begin{eqnarray}\n",
    "\\mathbf{w}_{k+1} &:=& \\mathbf{w}_k - \\alpha{\\frac{\\partial L(\\mathbf{w})}{\\partial \\mathbf{w}}} \\\\\n",
    "   &:=& \\mathbf{w}_k - \\alpha{\\left(\\mathbf{X} \\mathbf{X}^T \\mathbf{w}_{k} - \\mathbf{X} \\mathbf{y}\\right)} \\\\\n",
    "\\end{eqnarray}\n",
    "\n",
    "Note that this is the vectorized implementation.  It will make sure that all the parameters are updated in one go through this.\n"
   ]
  },
  {
   "cell_type": "code",
   "execution_count": 64,
   "metadata": {
    "id": "aJ08wiSLeiMx"
   },
   "outputs": [],
   "source": [
    "### Gradient descent\n",
    "def gradient(X,w,y):\n",
    "    return X@X.T @w - X@y\n",
    "def grad_des(X, y, eta, n_iter):\n",
    "    w0 = np.zeros(X.shape[0]).reshape(-1,1)\n",
    "    for i in range(n_iter):\n",
    "        w0 = w0 - eta*gradient(X, w0, y)\n",
    "    return w0\n",
    "w_g = grad_des(X, y_train, 0.001, 10)"
   ]
  },
  {
   "cell_type": "code",
   "execution_count": 65,
   "metadata": {},
   "outputs": [
    {
     "data": {
      "text/plain": [
       "4.477265059069882"
      ]
     },
     "execution_count": 65,
     "metadata": {},
     "output_type": "execute_result"
    }
   ],
   "source": [
    "y_g_pred = predict(X, w_g)\n",
    "RMSE(y_train, y_g_pred)"
   ]
  },
  {
   "cell_type": "code",
   "execution_count": 46,
   "metadata": {},
   "outputs": [
    {
     "data": {
      "text/plain": [
       "((2, 400), (400, 1))"
      ]
     },
     "execution_count": 46,
     "metadata": {},
     "output_type": "execute_result"
    }
   ],
   "source": [
    "X.shape,y_train.shape"
   ]
  },
  {
   "cell_type": "markdown",
   "metadata": {
    "id": "kQmmqovFoKkx"
   },
   "source": [
    "### Number of iterations vs loss (for fixed alpha)"
   ]
  },
  {
   "cell_type": "code",
   "execution_count": 73,
   "metadata": {
    "id": "5rGjFal8ekdg"
   },
   "outputs": [
    {
     "data": {
      "text/plain": [
       "Text(0, 0.5, 'loss train')"
      ]
     },
     "execution_count": 73,
     "metadata": {},
     "output_type": "execute_result"
    },
    {
     "data": {
      "image/png": "[encoded data removed]",
      "text/plain": [
       "<Figure size 640x480 with 1 Axes>"
      ]
     },
     "metadata": {},
     "output_type": "display_data"
    }
   ],
   "source": [
    "### Plot nunber of iterations vs loss for train\n",
    "loss_train = []\n",
    "iter = [1, 5, 10, 15, 20]\n",
    "for i in iter:\n",
    "    wts = grad_des(X, y_train, 0.001, i)\n",
    "    yg_pred = predict(X, wts)\n",
    "    loss = RMSE(y_train, yg_pred)\n",
    "    loss_train.append(loss)\n",
    "plt.plot(iter, loss_train)\n",
    "plt.xlabel('iterations')\n",
    "plt.ylabel('loss train')"
   ]
  },
  {
   "cell_type": "code",
   "execution_count": 74,
   "metadata": {},
   "outputs": [
    {
     "data": {
      "text/plain": [
       "Text(0, 0.5, 'loss test')"
      ]
     },
     "execution_count": 74,
     "metadata": {},
     "output_type": "execute_result"
    },
    {
     "data": {
      "image/png": "[encoded data removed]",
      "text/plain": [
       "<Figure size 640x480 with 1 Axes>"
      ]
     },
     "metadata": {},
     "output_type": "display_data"
    }
   ],
   "source": [
    "### Plot nunber of iterations vs loss for test\n",
    "loss_test = []\n",
    "iter = [1, 5, 10, 15, 20]\n",
    "for i in iter:\n",
    "    wts = grad_des(X_t, y_test, 0.001, i)\n",
    "    yg_pred_t = predict(X_t, wts)\n",
    "    loss = RMSE(y_test, yg_pred_t)\n",
    "    loss_test.append(loss)\n",
    "plt.plot(iter, loss_test)\n",
    "plt.xlabel('iterations')\n",
    "plt.ylabel('loss test')"
   ]
  },
  {
   "cell_type": "markdown",
   "metadata": {
    "id": "PDmCReoUofgs"
   },
   "source": [
    "###9 SGD:\n",
    "\n"
   ]
  },
  {
   "cell_type": "code",
   "execution_count": 83,
   "metadata": {
    "id": "BTz4yLWuwwb7"
   },
   "outputs": [
    {
     "data": {
      "text/plain": [
       "array([[4.64148498],\n",
       "       [3.72932397]])"
      ]
     },
     "execution_count": 83,
     "metadata": {},
     "output_type": "execute_result"
    }
   ],
   "source": [
    "### SGD\n",
    "def SDG(X, y, eta, iters):\n",
    "    w0 = np.zeros(X.shape[0]).reshape(-1,1)\n",
    "    for i in range(iters):\n",
    "        rng = np.random.default_rng(seed = i)\n",
    "        indices = rng.integers(X.shape[1], size = X.shape[1]//5)\n",
    "        X1, y1 = X[:,indices], y[indices]\n",
    "        w0 = w0 - eta*gradient(X1, w0, y1)\n",
    "    return w0\n",
    "\n",
    "SDG(X, y_train, 0.001, 10)        "
   ]
  },
  {
   "cell_type": "code",
   "execution_count": 85,
   "metadata": {
    "id": "NxONb5vnwvp6"
   },
   "outputs": [
    {
     "data": {
      "text/plain": [
       "array([[2.79416782],\n",
       "       [2.38371337]])"
      ]
     },
     "execution_count": 85,
     "metadata": {},
     "output_type": "execute_result"
    }
   ],
   "source": [
    "SDG(X_t, y_test, 0.001, 10)"
   ]
  },
  {
   "cell_type": "markdown",
   "metadata": {
    "id": "Nco8j8s1VOFa"
   },
   "source": [
    "## Kernel Regression\n",
    "\n"
   ]
  },
  {
   "cell_type": "markdown",
   "metadata": {
    "id": "-lEj5azOBtAd"
   },
   "source": [
    "* The optimal weight vector can be written as linear combination of data points.\n",
    "\n",
    "---\n",
    "\n",
    "Let $\\phi$ be the trainsformation mapping that trasforms the $d$-dimensional data points to $D$-dimension.\n",
    "\n",
    "$$\\phi: \\mathbb{R}^d \\rightarrow \\mathbb{R}^D$$\n",
    "\n",
    "Then\n",
    "\n",
    "$$\\mathbf{w} = \\phi(\\mathbf{X})\\alpha$$\n",
    "\n",
    "where,\n",
    "\n",
    "* $\\mathbf{X}$ = Feature matrix of shape $(d, n)$\n",
    "* $\\alpha = [\\alpha_1, \\alpha_2, ..., \\alpha_n]^T \\in \\mathbb{R}^n$\n",
    "\n"
   ]
  },
  {
   "cell_type": "markdown",
   "metadata": {
    "id": "kp20Xt_GDT3B"
   },
   "source": [
    "Here \n",
    "\n",
    "$$\\alpha = K^{-1}y$$\n",
    "\n",
    "where,\n",
    "\\begin{equation}\n",
    " K_{n \\times n} = \\begin{bmatrix}\n",
    "       k(\\mathbf{x}_1,\\mathbf{x}_1) & k(\\mathbf{x}_1,\\mathbf{x}_2) &\\dots & k(\\mathbf{x}_1,\\mathbf{x}_n)\\\\\n",
    "        k(\\mathbf{x}_2,\\mathbf{x}_1) & k(\\mathbf{x}_2,\\mathbf{x}_2) &\\dots & k(\\mathbf{x}_2,\\mathbf{x}_n)\\\\\n",
    "        \\vdots & \\vdots & \\dots & \\vdots\\\\\n",
    "       k(\\mathbf{x}_n,\\mathbf{x}_1) & k(\\mathbf{x}_n,\\mathbf{x}_2) &\\dots & k(\\mathbf{x}_n,\\mathbf{x}_n)\\\\\n",
    "    \\end{bmatrix}\n",
    "\\end{equation}\n",
    "\n",
    "Here, $k$ is the kernel function\n",
    "\n",
    "$$k: \\mathbb{R}^d \\times \\mathbb{R}^d \\rightarrow \\mathbb{R}\\\\ k(x_1, x_2) = \\phi(x_1)^T\\phi(x_2)\n",
    "$$"
   ]
  },
  {
   "cell_type": "code",
   "execution_count": 108,
   "metadata": {
    "id": "nMWfCoejerpm"
   },
   "outputs": [],
   "source": [
    "### K matrix and coefficient\n",
    "def coef(X,y,p):\n",
    "    K = polyk_mat(X,p)\n",
    "    return (np.linalg.pinv(K))@y"
   ]
  },
  {
   "cell_type": "markdown",
   "metadata": {
    "id": "__g386ueGBoH"
   },
   "source": [
    "## Prediction"
   ]
  },
  {
   "cell_type": "markdown",
   "metadata": {
    "id": "WEkJCpdVGFQ3"
   },
   "source": [
    "For a test point $\\mathbf{x}_t$, prediction is given by\n",
    "\n",
    "$$\\sum\\limits_{i=1}^{n}k(\\mathbf{x}_i, \\mathbf{x}_t)\\alpha_i$$\n",
    "\n"
   ]
  },
  {
   "cell_type": "markdown",
   "metadata": {
    "id": "AGPoE7q3Hx-d"
   },
   "source": [
    "#### Polynomial kernel of degree $p$:\n",
    "\n",
    "\n",
    "$k(\\mathbf{x}_1, \\mathbf{x}_2) = (\\mathbf{x}_1^T\\mathbf{x}_2+1)^p$"
   ]
  },
  {
   "cell_type": "code",
   "execution_count": 107,
   "metadata": {
    "id": "EhpPUAOuLNkp"
   },
   "outputs": [],
   "source": [
    "### Polynomial Kernel\n",
    "def polyk_mat(X, p):\n",
    "    return (X.T@X+1)**p"
   ]
  },
  {
   "cell_type": "markdown",
   "metadata": {
    "id": "TkjwkpKpOXxH"
   },
   "source": [
    "#### For prediction\n",
    "\n",
    "Let the training data matrix with $n$ examples is given by\n",
    " \\begin{equation}\n",
    "  \\mathbf{X}_{train} = \\begin{bmatrix}\n",
    "       | & | &\\dots & |\\\\\n",
    "       \\mathbf{x}_{1}&  \n",
    "       \\mathbf{x}_{2} & \n",
    "      \\dots &\n",
    "       \\mathbf{x}_{n}  \\\\\n",
    "        | & | &\\dots & |\\\\\n",
    "    \\end{bmatrix}\n",
    "\\end{equation}\n",
    "\n",
    "and the test data matrix with $m$ examples is given by\n",
    " \\begin{equation}\n",
    "  \\mathbf{X}_{test} = \\begin{bmatrix}\n",
    "       | & | &\\dots & |\\\\\n",
    "       \\mathbf{x}_{t1}&  \n",
    "       \\mathbf{x}_{t2} & \n",
    "      \\dots &\n",
    "       \\mathbf{x}_{tm}  \\\\\n",
    "        | & | &\\dots & |\\\\\n",
    "    \\end{bmatrix}\n",
    "\\end{equation}\n",
    "\n",
    "----\n",
    "\n",
    "Then \n",
    "\n",
    "\\begin{equation}\n",
    "  \\mathbf{X}_{train}^T \\mathbf{X}_{test}  = \\begin{bmatrix}\n",
    "       \\mathbf{x}_1^T\\mathbf{x}_{t1} &  \\mathbf{x}_1^T\\mathbf{x}_{t2}  &\\dots &  \\mathbf{x}_1^T\\mathbf{x}_{tm} \\\\\n",
    "      \\mathbf{x}_2^T\\mathbf{x}_{t1} &  \\mathbf{x}_2^T\\mathbf{x}_{t2}  &\\dots &  \\mathbf{x}_2^T\\mathbf{x}_{tm} \\\\\n",
    "        \\vdots & \\vdots &\\dots & \\vdots\\\\\n",
    "         \\mathbf{x}_n^T\\mathbf{x}_{t1} &  \\mathbf{x}_n^T\\mathbf{x}_{t2}  &\\dots &  \\mathbf{x}_n^T\\mathbf{x}_{tm} \\\\\n",
    "    \\end{bmatrix}\n",
    "\\end{equation}\n"
   ]
  },
  {
   "cell_type": "code",
   "execution_count": 105,
   "metadata": {
    "id": "72M-Xoiwe8Ew"
   },
   "outputs": [
    {
     "data": {
      "text/plain": [
       "4.477002001803876"
      ]
     },
     "execution_count": 105,
     "metadata": {},
     "output_type": "execute_result"
    }
   ],
   "source": [
    "### Prediction on training model\n",
    "def prediction(X_train, y, X_test,p):\n",
    "    alpha = coef(X_train, y, p)\n",
    "    K_mat = (X_train.T@X_test+1)**p\n",
    "    return K_mat@alpha\n",
    "y_pred = prediction(X_train, y_train, X_train, 1) \n",
    "RMSE(y_train, y_pred)"
   ]
  },
  {
   "cell_type": "code",
   "execution_count": 109,
   "metadata": {},
   "outputs": [
    {
     "data": {
      "text/plain": [
       "2.1103921105921506"
      ]
     },
     "execution_count": 109,
     "metadata": {},
     "output_type": "execute_result"
    }
   ],
   "source": [
    "### Prediction on training model\n",
    "def prediction(X_train, y, X_test,p):\n",
    "    alpha = coef(X_train, y, p)\n",
    "    K_mat = (X_train.T@X_test+1)**p\n",
    "    return K_mat.T@alpha\n",
    "y_pred = prediction(X_train, y_train, X_test, 3) \n",
    "RMSE(y_test, y_pred)"
   ]
  },
  {
   "cell_type": "markdown",
   "metadata": {
    "id": "5OnaPAgPU29n"
   },
   "source": [
    "### degree vs loss"
   ]
  },
  {
   "cell_type": "code",
   "execution_count": null,
   "metadata": {
    "id": "70cn-98Se9lH"
   },
   "outputs": [],
   "source": [
    "for i in range(5):\n",
    "    "
   ]
  }
 ],
 "metadata": {
  "colab": {
   "provenance": []
  },
  "kernelspec": {
   "display_name": "Python 3 (ipykernel)",
   "language": "python",
   "name": "python3"
  },
  "language_info": {
   "codemirror_mode": {
    "name": "ipython",
    "version": 3
   },
   "file_extension": ".py",
   "mimetype": "text/x-python",
   "name": "python",
   "nbconvert_exporter": "python",
   "pygments_lexer": "ipython3",
   "version": "3.9.13"
  }
 },
 "nbformat": 4,
 "nbformat_minor": 1
}
