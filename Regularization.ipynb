{
 "cells": [
  {
   "cell_type": "code",
   "execution_count": 1,
   "metadata": {
    "id": "3TDibK0Yrxm_"
   },
   "outputs": [],
   "source": [
    "import numpy as np\n",
    "import matplotlib.pyplot as plt\n"
   ]
  },
  {
   "cell_type": "markdown",
   "metadata": {
    "id": "XJKrscLo9qwH"
   },
   "source": [
    "## Dataset\n",
    "\n",
    "Run the cell given below to generate the data-matrix $X$ and target vector $y$. $X$ is of shape $(n, d)$, where $n$ denotes the number of samples and $d$ denotes the number of features. $y$ is of shape $(n,)$. You will be using this dataset for the rest of the session. \n",
    "\n"
   ]
  },
  {
   "cell_type": "code",
   "execution_count": 6,
   "metadata": {
    "id": "GIygEzr49Xvf"
   },
   "outputs": [
    {
     "data": {
      "text/plain": [
       "(442, 10)"
      ]
     },
     "execution_count": 6,
     "metadata": {},
     "output_type": "execute_result"
    }
   ],
   "source": [
    "from sklearn.datasets import load_diabetes\n",
    "X, y = load_diabetes(return_X_y = True)\n",
    "\n",
    "# set the random seed value to 0\n",
    "np.random.seed(0)\n",
    "X.shape"
   ]
  },
  {
   "cell_type": "markdown",
   "metadata": {
    "id": "HxIZaojUVGIL"
   },
   "source": [
    "\n",
    "Write a function `shuffle_data(X, y)` that returns the shuffled $X$ and $y$. \n",
    "\n",
    "Note that it should shuffle the data pairs $(x_i, y_i)$. \n",
    "\n"
   ]
  },
  {
   "cell_type": "code",
   "execution_count": 5,
   "metadata": {
    "id": "uLGsJyGkdgug"
   },
   "outputs": [],
   "source": [
    "## Shuffle data\n",
    "def shuffle_data(X,y):\n",
    "    indices = np.arange(X.shape[0])     #will result consecutive numbers from 0 to n\n",
    "    np.random.shuffle(indices)\n",
    "    return X[indices], y[indices] \n",
    "X, y = shuffle_data(X, y)"
   ]
  },
  {
   "cell_type": "markdown",
   "metadata": {
    "id": "pfsUsn_8WSXZ"
   },
   "source": [
    "\n",
    "Write a function `train_test_split(X, y, test_size)` that divides the data (X, y) into $X_{train}$, $X_{test}$, $y_{train}$, $y_{test}$ respectively as per test_size which should be a value between 0 and 1.\n",
    "\n",
    "That is, if test_size = $t$, then `int(t*n)` data points should go to test and the remaining data points should go to train.\n",
    "\n",
    "$X_{train}$, $X_{test}$, $y_{train}$, $y_{test}$ should be returned by the function.\n",
    "\n",
    "\n",
    "\n",
    "\n",
    "\n",
    "\n"
   ]
  },
  {
   "cell_type": "code",
   "execution_count": 37,
   "metadata": {
    "id": "Y5VZVbT8dg2b"
   },
   "outputs": [
    {
     "data": {
      "text/plain": [
       "((111, 10), (331, 10))"
      ]
     },
     "execution_count": 37,
     "metadata": {},
     "output_type": "execute_result"
    }
   ],
   "source": [
    "## Train Test split\n",
    "def train_test_split(X, y, test_size):\n",
    "    np.random.seed(0)\n",
    "    X, y = shuffle_data(X,y)\n",
    "    indices_test = X.shape[0]*test_size\n",
    "    n = X.shape[0]\n",
    "    train_data = X[ :int(n-indices_test)]\n",
    "    test_data = X[int(n-indices_test): ]\n",
    "    y_train = y[ :int(n-indices_test)]\n",
    "    y_test = y[int(n-indices_test): ]\n",
    "    return train_data, test_data, y_train, y_test\n",
    "train_data, test_data, y_train, y_test = train_test_split(X, y, 0.25)\n",
    "y_test.sum()\n",
    "test_data.shape,train_data.shape"
   ]
  },
  {
   "cell_type": "markdown",
   "metadata": {
    "id": "nYgSo6DLe0n-"
   },
   "source": [
    "\n",
    "Add a dummy feature, i.e., a column containing all 1's (as the first column) in $X_{train}$ and $X_{test}$.\n",
    "\n",
    "Take the transpose of both $X_{train}$ and $X_{test}$.\n",
    "\n"
   ]
  },
  {
   "cell_type": "code",
   "execution_count": 41,
   "metadata": {
    "id": "Lgv2V9qnnNv3"
   },
   "outputs": [
    {
     "data": {
      "text/plain": [
       "((11, 331), (11, 111))"
      ]
     },
     "execution_count": 41,
     "metadata": {},
     "output_type": "execute_result"
    }
   ],
   "source": [
    "### Add dummy feature\n",
    "train_data = train_data.T\n",
    "test_data = test_data.T\n",
    "dummy_feature = np.ones(train_data.shape[1])\n",
    "X_tr = np.row_stack((dummy_feature, train_data))\n",
    "X_te = np.row_stack((np.ones(test_data.shape[1]), test_data))\n",
    "X_tr.shape,X_te.shape\n",
    "#dummy_feature.shape"
   ]
  },
  {
   "cell_type": "markdown",
   "metadata": {
    "id": "mYY6hNkYf7gr"
   },
   "source": [
    "\n",
    "\n",
    "Write a function `compute_weights(X, y)` that uses the closed form formula of linear regression and returns a weight vector.\n",
    "\n"
   ]
  },
  {
   "cell_type": "code",
   "execution_count": 46,
   "metadata": {
    "id": "XWxPR8N5nc17"
   },
   "outputs": [],
   "source": [
    "## Weight vector\n",
    "def compute_weights(X, y):\n",
    "    return np.linalg.pinv(X@X.T) @X @y\n",
    "w = compute_weights(X_tr, y_train)"
   ]
  },
  {
   "cell_type": "markdown",
   "metadata": {
    "id": "XUKviVRZoh2j"
   },
   "source": [
    "\n",
    "\n",
    "Write a function `MSE(X, y, w)` that returns the mean squared error for the given `X`, `y` as per `w` values.\n",
    "\n"
   ]
  },
  {
   "cell_type": "code",
   "execution_count": 50,
   "metadata": {
    "id": "PYguHgM_2cSv"
   },
   "outputs": [
    {
     "name": "stdout",
     "output_type": "stream",
     "text": [
      "training error is:  2930.6006971803567\n"
     ]
    }
   ],
   "source": [
    "def MSE(X, y, w):\n",
    "    y_pred = (X.T)@w\n",
    "    return np.mean((y-y_pred)**2)\n",
    "print('training error is: ',MSE(X_tr,y_train, w))"
   ]
  },
  {
   "cell_type": "code",
   "execution_count": 51,
   "metadata": {},
   "outputs": [
    {
     "name": "stdout",
     "output_type": "stream",
     "text": [
      "test error is:  2719.657271320531\n"
     ]
    }
   ],
   "source": [
    "print('test error is: ',MSE(X_te,y_test, w))"
   ]
  },
  {
   "cell_type": "markdown",
   "metadata": {
    "id": "mZZVbejulHyv"
   },
   "source": [
    "\n",
    "Write a function `compute_weights_ridge(X, y)` that uses the closed form formula of Ridge regression and returns a weight vector.\n",
    "\n"
   ]
  },
  {
   "cell_type": "code",
   "execution_count": 60,
   "metadata": {
    "id": "tjfnYaG627ki"
   },
   "outputs": [
    {
     "data": {
      "text/plain": [
       "array([ 1.65983309e+07, -1.04177000e+04, -3.30848000e+04,  2.89814000e+04,\n",
       "       -5.92660000e+03, -1.63896000e+04, -5.53370000e+03,  8.86500000e+03,\n",
       "       -2.10758000e+04, -2.61383000e+04,  3.76026000e+04])"
      ]
     },
     "execution_count": 60,
     "metadata": {},
     "output_type": "execute_result"
    }
   ],
   "source": [
    "#### Ridge weight vector\n",
    "def compute_weights_ridge(X, y, alpha):\n",
    "    return (np.linalgX@X.T - alpha*(np.eye(X.shape[0])))@X@y\n",
    "w_r = compute_weights_ridge(X_tr, y_train, 0.3)\n",
    "w_r.round(1)"
   ]
  },
  {
   "cell_type": "markdown",
   "metadata": {
    "id": "LC9Au6sPt1oT"
   },
   "source": [
    "\n",
    "\n",
    "Compute the train error and test error."
   ]
  },
  {
   "cell_type": "code",
   "execution_count": 56,
   "metadata": {
    "id": "6fCBTgYfpRDA"
   },
   "outputs": [
    {
     "name": "stdout",
     "output_type": "stream",
     "text": [
      "training error using ridge weight is:  275509628681568.9\n",
      "test error using ridge weight is:  275469498261607.03\n"
     ]
    }
   ],
   "source": [
    "### Test and train error\n",
    "print('training error using ridge weight is: ',MSE(X_tr,y_train, w_r))\n",
    "print('test error using ridge weight is: ',MSE(X_te,y_test, w_r))"
   ]
  },
  {
   "cell_type": "code",
   "execution_count": null,
   "metadata": {},
   "outputs": [],
   "source": []
  }
 ],
 "metadata": {
  "colab": {
   "provenance": []
  },
  "kernelspec": {
   "display_name": "Python 3 (ipykernel)",
   "language": "python",
   "name": "python3"
  },
  "language_info": {
   "codemirror_mode": {
    "name": "ipython",
    "version": 3
   },
   "file_extension": ".py",
   "mimetype": "text/x-python",
   "name": "python",
   "nbconvert_exporter": "python",
   "pygments_lexer": "ipython3",
   "version": "3.9.13"
  }
 },
 "nbformat": 4,
 "nbformat_minor": 1
}
